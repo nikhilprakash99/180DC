{
 "metadata": {
  "language_info": {
   "codemirror_mode": {
    "name": "ipython",
    "version": 3
   },
   "file_extension": ".py",
   "mimetype": "text/x-python",
   "name": "python",
   "nbconvert_exporter": "python",
   "pygments_lexer": "ipython3",
   "version": 3
  },
  "orig_nbformat": 2,
  "kernelspec": {
   "name": "python_defaultSpec_1597317313885",
   "display_name": "Python 3.8.2 64-bit"
  }
 },
 "nbformat": 4,
 "nbformat_minor": 2,
 "cells": [
  {
   "cell_type": "code",
   "execution_count": null,
   "metadata": {},
   "outputs": [],
   "source": [
    "## Module Imports\n",
    "\n",
    "import xlrd "
   ]
  },
  {
   "cell_type": "code",
   "execution_count": 7,
   "metadata": {
    "tags": []
   },
   "outputs": [],
   "source": [
    "## Variable declarations\n",
    "\n",
    "# Investment\n",
    "vaccine_carrier_cost = 6500 # 5.5 litres\n",
    "vaccine_carrier_no = int()\n",
    "total_vaccine_carrier_cost = int()\n",
    "\n",
    "# Population of district\n",
    "P_r = 0\n",
    "P_u = 0\n",
    "\n",
    "# Frequency of unloading\n",
    "F_u = 0 \n",
    "F_r = 0\n",
    "\n",
    "# Vaccine Storage Unit \n",
    "# measured in units of vials\n",
    "# 1 vial = 10 doses\n",
    "# ICE line refrigerators\n",
    "VSU_r = list()\n",
    "VSU_u = list()\n",
    "\n",
    "# Cost of 1 Ice Line Refrigerator (ILR)\n",
    "cost_ILR = 0\n",
    "\n",
    "# no. of vials stored in 1 ILR\n",
    "capacity_ILR = 0\n",
    "\n",
    "# required time for vaccine to reach people\n",
    "target_time = 0\n",
    "\n",
    "# Storage volume taken by 1 vial\n",
    "# includes volume of container and other storage requirement\n",
    "vial_storage_volume = 0\n",
    "\n",
    "# Total supply chain storage taken up by all vaccines\n",
    "district_total_storage = 0\n",
    "\n",
    "# serving capacity of PHC per day\n",
    "PHC_capacity_r = list()\n",
    "PHC_capacity_u = list()\n",
    "\n",
    "# Reality factor\n",
    "R_f = 1\n"
   ]
  },
  {
   "cell_type": "code",
   "execution_count": null,
   "metadata": {},
   "outputs": [],
   "source": [
    "# Simulation\n",
    "\n",
    "r = 0\n",
    "for i in range(length(VSU_r))\n",
    "    r += (R_f*VSU_r[i]/PHC_capacity_r[i])\n",
    "    r1+= PHC_capacity_r[i]\n",
    "F_r = r/length(VSU_r)\n",
    "\n",
    "u = 0\n",
    "for i in range(length(VSU_u))\n",
    "    u += (R_f*VSU_u[i]/PHC_capacity_u[i])\n",
    "    u1 += PHC_capacity_u[i]\n",
    "F_u = u/length(VSU_u)\n",
    "\n",
    "n = (P_r + P_u)/(r1 + u1)\n",
    "\n",
    "vaccine_carrier_no = (u1+r1)*vial_storage_volume*2/(10*5.5)\n",
    "total_vaccine_carrier_cost = vaccine_carrier_no * vaccine_carrier_cost\n",
    "\n",
    "total_storage_capacity_district = (F_r * r1 + F_u * u1)/(R_f * 10)\n",
    "total_equipment_cold_chain_cost = total_storage_capacity_district * cost_ILR / capacity_ILR\n"
   ]
  }
 ]
}